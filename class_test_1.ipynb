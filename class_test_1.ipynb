{
 "cells": [
  {
   "cell_type": "markdown",
   "metadata": {},
   "source": [
    "**Question-1**"
   ]
  },
  {
   "cell_type": "code",
   "execution_count": 3,
   "metadata": {},
   "outputs": [
    {
     "name": "stdout",
     "output_type": "stream",
     "text": [
      "6\n",
      "0\n"
     ]
    }
   ],
   "source": [
    "tests = [\n",
    "    {\"list\": [1,10,4,9,2,8,0,3,7,5], \"n\":10},\n",
    "    {\"list\": [5,2,3,4,1], \"n\":5}\n",
    "]\n",
    "\n",
    "def missing_value(list, n):\n",
    "    for i in range(n):\n",
    "        if i not in list:\n",
    "            return i\n",
    "\n",
    "for test in tests:\n",
    "    print(missing_value(test[\"list\"], test[\"n\"]))"
   ]
  },
  {
   "cell_type": "markdown",
   "metadata": {},
   "source": [
    "**Question-2**"
   ]
  },
  {
   "cell_type": "code",
   "execution_count": null,
   "metadata": {},
   "outputs": [],
   "source": [
    "def swap(list, i, j):\n",
    "    list[i], list[j] = list[j], list[i]\n",
    "\n",
    "def selection_sort_increasing(list):\n",
    "    n = len(list)\n",
    "\n",
    "    for i in range(n):\n",
    "        min = i\n",
    "\n",
    "        for j in range(i+1, n):\n",
    "            if list[i] > list[j]:\n",
    "                min = j\n",
    "        \n",
    "        swap(list, i, min)\n",
    "\n",
    "def selection_sort_decreasing(list):\n",
    "    n = len(list)\n",
    "\n",
    "    for i in range(n):\n",
    "        min = i\n",
    "\n",
    "        for j in range(i+1, n):\n",
    "            if list[i] < list[j]:\n",
    "                min = j\n",
    "        \n",
    "        swap(list, i, min)\n",
    "\n",
    "\n",
    "def rearrange(list)\n"
   ]
  }
 ],
 "metadata": {
  "kernelspec": {
   "display_name": "Python 3",
   "language": "python",
   "name": "python3"
  },
  "language_info": {
   "codemirror_mode": {
    "name": "ipython",
    "version": 3
   },
   "file_extension": ".py",
   "mimetype": "text/x-python",
   "name": "python",
   "nbconvert_exporter": "python",
   "pygments_lexer": "ipython3",
   "version": "3.12.7"
  }
 },
 "nbformat": 4,
 "nbformat_minor": 2
}
