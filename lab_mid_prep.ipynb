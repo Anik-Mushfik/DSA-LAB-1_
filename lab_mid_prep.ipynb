{
 "cells": [
  {
   "cell_type": "markdown",
   "metadata": {},
   "source": [
    "# **A - A_BubbleSort**\n",
    "\n",
    "Now, given an array of N integers, you have to find out how many swap opeartions occur if the Bubble Sort algorithm is used to sort the array.\n",
    "\n",
    "**Input**\n",
    "\n",
    "Input begins with a line containing an integer T (1<=T<=100), denoting the number of test cases. Then T test cases follow. Each test case begins with a line containing an integer N (1<=N<=10000), denoting the number of integers in the array, followed by a line containing N space separated 32-bit integers.\n",
    "\n",
    "**Output**\n",
    "\n",
    "For each test case, output a single line in the format Case X: Y, where X denotes the test case number and Y denotes the number of swap operations needed modulo 10000007.\n",
    "\n",
    "**Example**\n",
    "\n",
    "Input:\n",
    "\n",
    "1\n",
    "\n",
    "4\n",
    "\n",
    "3 2 1 4\n",
    "\n",
    "Output:\n",
    "\n",
    "Case 1: 3\n",
    "\n"
   ]
  },
  {
   "cell_type": "code",
   "execution_count": 1,
   "metadata": {},
   "outputs": [
    {
     "name": "stdout",
     "output_type": "stream",
     "text": [
      "([1, 2, 3, 4], 3)\n"
     ]
    }
   ],
   "source": [
    "my_list = [3, 2, 1, 4]\n",
    "\n",
    "def swap(list, i, j):\n",
    "    list[i], list[j] = list[j], list[i]\n",
    "\n",
    "def bouble_sort(list):\n",
    "    n = len(list)\n",
    "    swapped = 0\n",
    "    for j in range(n):\n",
    "        for i in range((n-j)-1):\n",
    "            if list[i] > list[i+1]:\n",
    "                swap(list, i, i+1)\n",
    "                swapped += 1\n",
    "    return list, swapped\n",
    "\n",
    "print(bouble_sort(my_list))\n"
   ]
  },
  {
   "cell_type": "code",
   "execution_count": 2,
   "metadata": {},
   "outputs": [
    {
     "name": "stdout",
     "output_type": "stream",
     "text": [
      "Case 1: 3\n"
     ]
    }
   ],
   "source": [
    "no_of_test_cases = int(input())\n",
    "\n",
    "for n in range(no_of_test_cases):\n",
    "    no_of_int = int(input())\n",
    "\n",
    "    input_list = list(map(int,input().split()))\n",
    "\n",
    "\n",
    "    def swap(list, i,j):\n",
    "        list[i], list[j] = list[j], list[i]\n",
    "\n",
    "    def bouble_sort(list):\n",
    "        swapped = 0\n",
    "        n = len(list)\n",
    "        for i in range(n):\n",
    "            for j in range(n-i-1):\n",
    "                if list[j] > list[j+1]:\n",
    "                    swap(list, j,j+1)\n",
    "                    swapped += 1\n",
    "        \n",
    "        return swapped\n",
    "\n",
    "    print(f\"Case {n+1}: {bouble_sort(input_list)}\")\n",
    "\n"
   ]
  },
  {
   "cell_type": "code",
   "execution_count": 3,
   "metadata": {},
   "outputs": [
    {
     "name": "stdout",
     "output_type": "stream",
     "text": [
      "Case 1: 3\n"
     ]
    }
   ],
   "source": [
    "no_of_test_cases = int(input())\n",
    "\n",
    "for t in range(no_of_test_cases):\n",
    "    no_of_int = int(input())\n",
    "\n",
    "    input_list = list(map(int,input().split()))\n",
    "\n",
    "    swapped = 0\n",
    "    n = len(input_list)\n",
    "    for i in range(n):\n",
    "        for j in range(n-i-1):\n",
    "            if input_list[j] > input_list[j+1]:\n",
    "                input_list[j], input_list[j+1] = input_list[j+1], input_list[j]\n",
    "                swapped += 1\n",
    " \n",
    "    print(f\"Case {t+1}: {swapped}\")"
   ]
  },
  {
   "cell_type": "markdown",
   "metadata": {},
   "source": [
    "# **B - B_InsertionSort**\n",
    "\n",
    "\n",
    "Implement Insertion Sort and print the index at which the ith element gets inserted [i>=1].\n",
    "\n",
    "\n",
    "**Input Format**\n",
    "\n",
    "First line of input contains T - number of test cases. Its followed by 2T lines. First line of each test case contains N - size of the array. The next line contains N integers - elements of the array.\n",
    "\n",
    "\n",
    "**Constraints**\n",
    "\n",
    "1 <= T <= 100\n",
    "\n",
    "2 <= N <= 100\n",
    "\n",
    "-1000 <= ar[i] <= 1000\n",
    "\n",
    "\n",
    "**Output Format**\n",
    "\n",
    "For each test case, print the index at which the ith element gets inserted [i>=1], separated by space. Separate the output of different tests by newline.\n",
    "\n",
    "\n",
    "\n",
    "**Input:**\n",
    "\n",
    "4\n",
    "\n",
    "8\n",
    "\n",
    "176 -272 -272 -45 269 -327 -945 176 \n",
    "\n",
    "2\n",
    "\n",
    "-274 161\n",
    "\n",
    "7\n",
    "\n",
    "274 204 -161 481 -606 -767 -351\n",
    "\n",
    "2\n",
    "\n",
    "154 -109\n",
    "\n",
    "\n",
    "**Output:**\n",
    "\n",
    "0 1 2 4 0 0 6 \n",
    "\n",
    "1 \n",
    "\n",
    "0 0 3 0 0 2 \n",
    "\n",
    "0\n"
   ]
  },
  {
   "cell_type": "code",
   "execution_count": 6,
   "metadata": {},
   "outputs": [
    {
     "name": "stdout",
     "output_type": "stream",
     "text": [
      "0 1 2 4 0 0 6 "
     ]
    }
   ],
   "source": [
    "my_list = [176, -272, -272, -45, 269, -327, -945, 176]\n",
    "\n",
    "def insetion_sort(list):\n",
    "    for i in range(1, len(list)):\n",
    "        key = list[i]\n",
    "        j = i-1\n",
    "\n",
    "        while j>=0 and list[j]>key:\n",
    "            list[j+1] = list[j]\n",
    "            j = j-1\n",
    "            # print(list)\n",
    "\n",
    "        list[j+1] = key\n",
    "        print(j+1, end= \" \")\n",
    "\n",
    "        # print(list)\n",
    "\n",
    "insetion_sort(my_list)"
   ]
  },
  {
   "cell_type": "code",
   "execution_count": 11,
   "metadata": {},
   "outputs": [
    {
     "name": "stdout",
     "output_type": "stream",
     "text": [
      "0 1 2 4 0 0 6 \n",
      "1 \n",
      "0 0 3 0 0 2 \n",
      "0 \n"
     ]
    }
   ],
   "source": [
    "no_of_test_cases = int(input())\n",
    "\n",
    "for _ in range(no_of_test_cases):\n",
    "    n = int(input())\n",
    "\n",
    "    lst = list(map(int, input().split()))\n",
    "\n",
    "    for i in range(1, n):\n",
    "        key = lst[i]\n",
    "        j = i-1\n",
    "\n",
    "        while (j>=0) and (lst[j]>key):\n",
    "            lst[j+1] = lst[j]\n",
    "            j -= 1\n",
    "        \n",
    "        lst[j+1] = key\n",
    "        print(j+1, end=\" \")\n",
    "    \n",
    "    print()\n",
    "    # print(lst)"
   ]
  },
  {
   "cell_type": "markdown",
   "metadata": {},
   "source": [
    "# **C - C_Laptop**\n",
    "\n",
    "One day Dima and Alex had an argument about the price and quality of laptops. Dima thinks that the more expensive a laptop is, the better it is. Alex disagrees. Alex thinks that there are two laptops, such that the price of the first laptop is less (strictly smaller) than the price of the second laptop but the quality of the first laptop is higher (strictly greater) than the quality of the second laptop.\n",
    "\n",
    "Please, check the guess of Alex. You are given descriptions of n laptops. Determine whether two described above laptops exist.\n",
    "\n",
    "**Input**\n",
    "\n",
    "The first line contains an integer n (1 ≤ n ≤ 105) — the number of laptops.\n",
    "\n",
    "Next n lines contain two integers each, ai and bi (1 ≤ ai, bi ≤ n), where ai is the price of the i-th laptop, and bi is the number that represents the quality of the i-th laptop (the larger the number is, the higher is the quality).\n",
    "\n",
    "All ai are distinct. All bi are distinct.\n",
    "\n",
    "**Output**\n",
    "\n",
    "If Alex is correct, print \"Happy Alex\", otherwise print \"Poor Alex\" (without the quotes).\n",
    "\n",
    "**Examples**\n",
    "\n",
    "Input:\n",
    "\n",
    "2\n",
    "\n",
    "1 2\n",
    "\n",
    "2 1\n",
    "\n",
    "\n",
    "Output:\n",
    "\n",
    "Happy Alex\n"
   ]
  },
  {
   "cell_type": "code",
   "execution_count": null,
   "metadata": {},
   "outputs": [],
   "source": [
    "n = int(input())\n",
    "laptops = []\n",
    "\n",
    "for i in range(n):\n",
    "    price, quality = map(int, input().split())\n",
    "    laptops.append((price, quality))\n",
    "\n",
    "laptops.sort()\n",
    "alex_happy = False\n",
    "\n",
    "for j in range(1,n):\n",
    "    if laptops[j-1][1] > laptops[j][1]:\n",
    "        alex_happy = True\n",
    "        break\n",
    "\n",
    "if alex_happy:\n",
    "    print(\"Happy Alex\")\n",
    "else:\n",
    "    print(\"Poor Alex\")"
   ]
  },
  {
   "cell_type": "markdown",
   "metadata": {},
   "source": [
    "# **D - D_SortTheArray**"
   ]
  },
  {
   "cell_type": "code",
   "execution_count": 42,
   "metadata": {},
   "outputs": [
    {
     "name": "stdout",
     "output_type": "stream",
     "text": [
      "yes\n",
      "1 1\n"
     ]
    }
   ],
   "source": [
    "def bouble_sort(list):\n",
    "    n = len(list)\n",
    "    for i in range(n):\n",
    "        for j in range(n-i-1):\n",
    "            if list[j] > list[j+1]:\n",
    "                list[j], list[j+1] = list[j+1], list[j]\n",
    "    # print(list)\n",
    "    return list\n",
    "\n",
    "\n",
    "n = int(input())\n",
    "lst = list(map(int, input().split()))\n",
    "\n",
    "start, end = -1, -1\n",
    "\n",
    "\n",
    "for i in range(n-1):\n",
    "    if lst[i] > lst[i+1]:\n",
    "        start = i\n",
    "        break\n",
    "\n",
    "if start == -1:\n",
    "    print(\"yes\")\n",
    "    print(1,1)\n",
    "else:\n",
    "    for j in range(n-1,0,-1):\n",
    "        if lst[j-1] > lst[j]:\n",
    "            end = j\n",
    "            break\n",
    "    \n",
    "\n",
    "    reversed_list = lst[:start] + lst[start:end+1][::-1] + lst[end+1:]\n",
    "    # print(\"my\", reversed_list)\n",
    "\n",
    "    if reversed_list == bouble_sort(lst):\n",
    "        print(\"yes\")\n",
    "        print(f\"{start+1}  {end+1}\")\n",
    "    else:\n",
    "        print(\"no\")"
   ]
  },
  {
   "cell_type": "markdown",
   "metadata": {},
   "source": [
    "# **E - E_HelpfulMath**\n",
    "\n",
    "Xenia the beginner mathematician is a third year student at elementary school. She is now learning the addition operation.\n",
    "\n",
    "The teacher has written down the sum of multiple numbers. Pupils should calculate the sum. To make the calculation easier, the sum only contains numbers 1, 2 and 3. Still, that isn't enough for Xenia. She is only beginning to count, so she can calculate a sum only if the summands follow in non-decreasing order. For example, she can't calculate sum 1+3+2+1 but she can calculate sums 1+1+2 and 3+3.\n",
    "\n",
    "You've got the sum that was written on the board. Rearrange the summans and print the sum in such a way that Xenia can calculate the sum.\n",
    "\n",
    "**Input**\n",
    "\n",
    "The first line contains a non-empty string s — the sum Xenia needs to count. String s contains no spaces. It only contains digits and characters \"+\". Besides, string s is a correct sum of numbers 1, 2 and 3. String s is at most 100 characters long.\n",
    "\n",
    "**Output**\n",
    "\n",
    "Print the new sum that Xenia can count.\n",
    "\n",
    "**Examples**\n",
    "\n",
    "Input:\n",
    "\n",
    "3+2+1\n",
    "\n",
    "Output:\n",
    "\n",
    "1+2+3\n",
    "\n",
    "Input:\n",
    "\n",
    "1+1+3+1+3\n",
    "\n",
    "Output:\n",
    "\n",
    "1+1+1+3+3\n",
    "\n",
    "Input:\n",
    "\n",
    "2\n",
    "\n",
    "Output:\n",
    "\n",
    "2"
   ]
  },
  {
   "cell_type": "code",
   "execution_count": null,
   "metadata": {},
   "outputs": [
    {
     "name": "stdout",
     "output_type": "stream",
     "text": [
      "[1, 1, 3, 1, 3]\n"
     ]
    }
   ],
   "source": [
    "math_input = list(map(int, input().split(\"+\")))\n",
    "\n",
    "def counting_sort(list):\n",
    "    "
   ]
  },
  {
   "cell_type": "markdown",
   "metadata": {},
   "source": [
    "# **F - F_Apartments**\n",
    "\n",
    "There are n applicants and m free apartments. Your task is to distribute the apartments so that as many applicants as possible will get an apartment.\n",
    "\n",
    "Each applicant has a desired apartment size, and they will accept any apartment whose size is close enough to the desired size.\n",
    "\n",
    "**Input**\n",
    "\n",
    "The first input line has three integers n, m, and k: the number of applicants, the number of apartments, and the maximum allowed difference.\n",
    "\n",
    "The next line contains n integers a1 ,a2 ,…,an : the desired apartment size of each applicant. If the desired size of an applicant is x, he or she will accept any apartment whose size is between x−k and x+k.\n",
    "\n",
    "The last line contains m integers b1,b2,…,bm : the size of each apartment.\n",
    "\n",
    "**Output**\n",
    "\n",
    "Print one integer: the number of applicants who will get an apartment.\n",
    "\n",
    "**Constraints**\n",
    "\n",
    "1) 1≤n,m≤2⋅10^5\n",
    "\n",
    "2) 0≤k≤10^9\n",
    " \n",
    "3) 1≤ai ,bi ≤10^9\n",
    " \n",
    "**Example**\n",
    "\n",
    "Input:\n",
    "\n",
    "4 3 5\n",
    "\n",
    "60 45 80 60\n",
    "\n",
    "30 60 75\n",
    "\n",
    "Output:\n",
    "\n",
    "2"
   ]
  },
  {
   "cell_type": "code",
   "execution_count": 26,
   "metadata": {},
   "outputs": [
    {
     "name": "stdout",
     "output_type": "stream",
     "text": [
      "2\n"
     ]
    }
   ],
   "source": [
    "n = list(map(int, input().split()))\n",
    "m = list(map(int, input().split()))\n",
    "k = list(map(int, input().split()))\n",
    "\n",
    "sold = 0\n",
    "for i in m:\n",
    "    for j in k:\n",
    "        if j in range(i-n[2], i+n[2]+1):\n",
    "            sold += 1\n",
    "            k.remove(j)\n",
    "\n",
    "print(sold)"
   ]
  },
  {
   "cell_type": "code",
   "execution_count": 27,
   "metadata": {},
   "outputs": [
    {
     "name": "stdout",
     "output_type": "stream",
     "text": [
      "2\n"
     ]
    }
   ],
   "source": [
    "def bouble_sort(list):\n",
    "    n = len(list)\n",
    "    for i in range(n):\n",
    "        for j in range(1, n-i-1):\n",
    "            if list[j] > list[j+1]:\n",
    "                list[j], list[j+1] = list[j+1], list[j]\n",
    "\n",
    "    return list\n",
    "\n",
    "n,m,k = map(int, input().split())\n",
    "apartmentts = bouble_sort(list(map(int, input().split())))\n",
    "aplicants = bouble_sort(list(map(int, input().split())))\n",
    "\n",
    "matched = 0\n",
    "i = 0\n",
    "j = 0\n",
    "\n",
    "while (i<n) and (j<m):\n",
    "    if abs(apartmentts[i] - aplicants[j]) <= k:\n",
    "        matched += 1\n",
    "        i += 1\n",
    "        j += 1\n",
    "    elif apartmentts[i] > aplicants[j]:\n",
    "        j += 1\n",
    "    else:\n",
    "        i += 1\n",
    "\n",
    "print(matched)"
   ]
  },
  {
   "cell_type": "markdown",
   "metadata": {},
   "source": [
    "# **G - G_DistinctNumbers**"
   ]
  },
  {
   "cell_type": "code",
   "execution_count": 23,
   "metadata": {},
   "outputs": [
    {
     "name": "stdout",
     "output_type": "stream",
     "text": [
      "2\n"
     ]
    }
   ],
   "source": [
    "# import pandas as pd\n",
    "\n",
    "n = int(input())\n",
    "lst = list(map(int, input().split()))\n",
    "\n",
    "distinct_values = []\n",
    "\n",
    "for i in lst:\n",
    "    if i not in distinct_values:\n",
    "        distinct_values.append(i)\n",
    "        \n",
    "print(len(distinct_values))\n",
    "\n",
    "# print(len(pd.unique(lst)))"
   ]
  },
  {
   "cell_type": "markdown",
   "metadata": {},
   "source": [
    "# **Reverse of single linked list**"
   ]
  },
  {
   "cell_type": "code",
   "execution_count": 17,
   "metadata": {},
   "outputs": [],
   "source": [
    "class Node:\n",
    "    def __init__(self, data):\n",
    "        self.data = data\n",
    "        self.next = None\n",
    "\n",
    "\n",
    "class SingleLinkedList:\n",
    "    def __init__(self):\n",
    "        self.head = None\n",
    "    \n",
    "    def insertAtBegin(self, data):\n",
    "        new_item = Node(data)\n",
    "        if self.head is None:\n",
    "            self.head = new_item\n",
    "            return\n",
    "        else:\n",
    "            new_item.next = self.head\n",
    "            self.head = new_item\n",
    "\n",
    "    def insertAtEnd(self, data):\n",
    "        new_item = Node(data)\n",
    "        if self.head is None:\n",
    "            self.head = new_item\n",
    "            return\n",
    "        else:\n",
    "            current = self.head\n",
    "            while (current.next != None):\n",
    "                current = current.next\n",
    "            current.next = new_item\n",
    "\n",
    "    def display(self):\n",
    "        current = self.head\n",
    "        while(current):\n",
    "            print(current.data, end=\" -> \")\n",
    "            current = current.next\n",
    "        print(f\"None\")\n",
    "\n",
    "    def reverse(self):\n",
    "        reversed_list = SingleLinkedList()\n",
    "\n",
    "        current = self.head\n",
    "        while(current):\n",
    "            reversed_list.insertAtBegin(current.data)\n",
    "            current = current.next\n",
    "        \n",
    "        reversed_list.display()"
   ]
  },
  {
   "cell_type": "code",
   "execution_count": 18,
   "metadata": {},
   "outputs": [
    {
     "name": "stdout",
     "output_type": "stream",
     "text": [
      "4 -> 63 -> 47 -> 31 -> 78 -> 12 -> 9 -> None\n",
      "9 -> 12 -> 78 -> 31 -> 47 -> 63 -> 4 -> None\n"
     ]
    }
   ],
   "source": [
    "list_3 = SingleLinkedList()\n",
    "list_3.insertAtBegin(4)\n",
    "list_3.insertAtEnd(63)\n",
    "list_3.insertAtEnd(47)\n",
    "list_3.insertAtEnd(31)\n",
    "list_3.insertAtEnd(78)\n",
    "list_3.insertAtEnd(12)\n",
    "list_3.insertAtEnd(9)\n",
    "list_3.display()\n",
    "list_3.reverse()"
   ]
  },
  {
   "cell_type": "code",
   "execution_count": null,
   "metadata": {},
   "outputs": [],
   "source": []
  }
 ],
 "metadata": {
  "kernelspec": {
   "display_name": "Python 3",
   "language": "python",
   "name": "python3"
  },
  "language_info": {
   "codemirror_mode": {
    "name": "ipython",
    "version": 3
   },
   "file_extension": ".py",
   "mimetype": "text/x-python",
   "name": "python",
   "nbconvert_exporter": "python",
   "pygments_lexer": "ipython3",
   "version": "3.12.8"
  }
 },
 "nbformat": 4,
 "nbformat_minor": 2
}
