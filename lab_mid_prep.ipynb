{
 "cells": [
  {
   "cell_type": "markdown",
   "metadata": {},
   "source": [
    "# **A - A_BubbleSort**\n",
    "\n",
    "Now, given an array of N integers, you have to find out how many swap opeartions occur if the Bubble Sort algorithm is used to sort the array.\n",
    "\n",
    "**Input**\n",
    "\n",
    "Input begins with a line containing an integer T (1<=T<=100), denoting the number of test cases. Then T test cases follow. Each test case begins with a line containing an integer N (1<=N<=10000), denoting the number of integers in the array, followed by a line containing N space separated 32-bit integers.\n",
    "\n",
    "**Output**\n",
    "\n",
    "For each test case, output a single line in the format Case X: Y, where X denotes the test case number and Y denotes the number of swap operations needed modulo 10000007.\n",
    "\n",
    "**Example**\n",
    "\n",
    "Input:\n",
    "\n",
    "1\n",
    "\n",
    "4\n",
    "\n",
    "3 2 1 4\n",
    "\n",
    "Output:\n",
    "\n",
    "Case 1: 3\n",
    "\n"
   ]
  },
  {
   "cell_type": "code",
   "execution_count": 5,
   "metadata": {},
   "outputs": [
    {
     "name": "stdout",
     "output_type": "stream",
     "text": [
      "([1, 2, 3, 4], 3)\n"
     ]
    }
   ],
   "source": [
    "my_list = [3, 2, 1, 4]\n",
    "\n",
    "def swap(list, i, j):\n",
    "    list[i], list[j] = list[j], list[i]\n",
    "\n",
    "def bouble_sort(list):\n",
    "    n = len(list)\n",
    "    swapped = 0\n",
    "    for j in range(n):\n",
    "        for i in range((n-j)-1):\n",
    "            if list[i] > list[i+1]:\n",
    "                swap(list, i, i+1)\n",
    "                swapped += 1\n",
    "    return list, swapped\n",
    "\n",
    "print(bouble_sort(my_list))\n"
   ]
  }
 ],
 "metadata": {
  "kernelspec": {
   "display_name": "Python 3",
   "language": "python",
   "name": "python3"
  },
  "language_info": {
   "codemirror_mode": {
    "name": "ipython",
    "version": 3
   },
   "file_extension": ".py",
   "mimetype": "text/x-python",
   "name": "python",
   "nbconvert_exporter": "python",
   "pygments_lexer": "ipython3",
   "version": "3.12.8"
  }
 },
 "nbformat": 4,
 "nbformat_minor": 2
}
