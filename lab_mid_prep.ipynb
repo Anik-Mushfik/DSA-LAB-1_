{
 "cells": [
  {
   "cell_type": "markdown",
   "metadata": {},
   "source": [
    "# **A - A_BubbleSort**\n",
    "\n",
    "Now, given an array of N integers, you have to find out how many swap opeartions occur if the Bubble Sort algorithm is used to sort the array.\n",
    "\n",
    "**Input**\n",
    "\n",
    "Input begins with a line containing an integer T (1<=T<=100), denoting the number of test cases. Then T test cases follow. Each test case begins with a line containing an integer N (1<=N<=10000), denoting the number of integers in the array, followed by a line containing N space separated 32-bit integers.\n",
    "\n",
    "**Output**\n",
    "\n",
    "For each test case, output a single line in the format Case X: Y, where X denotes the test case number and Y denotes the number of swap operations needed modulo 10000007.\n",
    "\n",
    "**Example**\n",
    "\n",
    "Input:\n",
    "\n",
    "1\n",
    "\n",
    "4\n",
    "\n",
    "3 2 1 4\n",
    "\n",
    "Output:\n",
    "\n",
    "Case 1: 3\n",
    "\n"
   ]
  },
  {
   "cell_type": "code",
   "execution_count": 1,
   "metadata": {},
   "outputs": [
    {
     "name": "stdout",
     "output_type": "stream",
     "text": [
      "([1, 2, 3, 4], 3)\n"
     ]
    }
   ],
   "source": [
    "my_list = [3, 2, 1, 4]\n",
    "\n",
    "def swap(list, i, j):\n",
    "    list[i], list[j] = list[j], list[i]\n",
    "\n",
    "def bouble_sort(list):\n",
    "    n = len(list)\n",
    "    swapped = 0\n",
    "    for j in range(n):\n",
    "        for i in range((n-j)-1):\n",
    "            if list[i] > list[i+1]:\n",
    "                swap(list, i, i+1)\n",
    "                swapped += 1\n",
    "    return list, swapped\n",
    "\n",
    "print(bouble_sort(my_list))\n"
   ]
  },
  {
   "cell_type": "code",
   "execution_count": 2,
   "metadata": {},
   "outputs": [
    {
     "name": "stdout",
     "output_type": "stream",
     "text": [
      "Case 1: 3\n"
     ]
    }
   ],
   "source": [
    "no_of_test_cases = int(input())\n",
    "\n",
    "for n in range(no_of_test_cases):\n",
    "    no_of_int = int(input())\n",
    "\n",
    "    input_list = list(map(int,input().split()))\n",
    "\n",
    "\n",
    "    def swap(list, i,j):\n",
    "        list[i], list[j] = list[j], list[i]\n",
    "\n",
    "    def bouble_sort(list):\n",
    "        swapped = 0\n",
    "        n = len(list)\n",
    "        for i in range(n):\n",
    "            for j in range(n-i-1):\n",
    "                if list[j] > list[j+1]:\n",
    "                    swap(list, j,j+1)\n",
    "                    swapped += 1\n",
    "        \n",
    "        return swapped\n",
    "\n",
    "    print(f\"Case {n+1}: {bouble_sort(input_list)}\")\n",
    "\n"
   ]
  },
  {
   "cell_type": "code",
   "execution_count": 3,
   "metadata": {},
   "outputs": [
    {
     "name": "stdout",
     "output_type": "stream",
     "text": [
      "Case 1: 3\n"
     ]
    }
   ],
   "source": [
    "no_of_test_cases = int(input())\n",
    "\n",
    "for t in range(no_of_test_cases):\n",
    "    no_of_int = int(input())\n",
    "\n",
    "    input_list = list(map(int,input().split()))\n",
    "\n",
    "    swapped = 0\n",
    "    n = len(input_list)\n",
    "    for i in range(n):\n",
    "        for j in range(n-i-1):\n",
    "            if input_list[j] > input_list[j+1]:\n",
    "                input_list[j], input_list[j+1] = input_list[j+1], input_list[j]\n",
    "                swapped += 1\n",
    " \n",
    "    print(f\"Case {t+1}: {swapped}\")"
   ]
  },
  {
   "cell_type": "markdown",
   "metadata": {},
   "source": [
    "# **B - B_InsertionSort**\n",
    "\n",
    "\n",
    "Implement Insertion Sort and print the index at which the ith element gets inserted [i>=1].\n",
    "\n",
    "\n",
    "**Input Format**\n",
    "\n",
    "First line of input contains T - number of test cases. Its followed by 2T lines. First line of each test case contains N - size of the array. The next line contains N integers - elements of the array.\n",
    "\n",
    "\n",
    "**Constraints**\n",
    "\n",
    "1 <= T <= 100\n",
    "\n",
    "2 <= N <= 100\n",
    "\n",
    "-1000 <= ar[i] <= 1000\n",
    "\n",
    "\n",
    "**Output Format**\n",
    "\n",
    "For each test case, print the index at which the ith element gets inserted [i>=1], separated by space. Separate the output of different tests by newline.\n",
    "\n",
    "\n",
    "\n",
    "**Input:**\n",
    "\n",
    "4\n",
    "\n",
    "8\n",
    "\n",
    "176 -272 -272 -45 269 -327 -945 176 \n",
    "\n",
    "2\n",
    "\n",
    "-274 161\n",
    "\n",
    "7\n",
    "\n",
    "274 204 -161 481 -606 -767 -351\n",
    "\n",
    "2\n",
    "\n",
    "154 -109\n",
    "\n",
    "\n",
    "**Output:**\n",
    "\n",
    "0 1 2 4 0 0 6 \n",
    "\n",
    "1 \n",
    "\n",
    "0 0 3 0 0 2 \n",
    "\n",
    "0\n"
   ]
  },
  {
   "cell_type": "code",
   "execution_count": 6,
   "metadata": {},
   "outputs": [
    {
     "name": "stdout",
     "output_type": "stream",
     "text": [
      "0 1 2 4 0 0 6 "
     ]
    }
   ],
   "source": [
    "my_list = [176, -272, -272, -45, 269, -327, -945, 176]\n",
    "\n",
    "def insetion_sort(list):\n",
    "    for i in range(1, len(list)):\n",
    "        key = list[i]\n",
    "        j = i-1\n",
    "\n",
    "        while j>=0 and list[j]>key:\n",
    "            list[j+1] = list[j]\n",
    "            j = j-1\n",
    "            # print(list)\n",
    "\n",
    "        list[j+1] = key\n",
    "        print(j+1, end= \" \")\n",
    "\n",
    "        # print(list)\n",
    "\n",
    "insetion_sort(my_list)"
   ]
  },
  {
   "cell_type": "code",
   "execution_count": 11,
   "metadata": {},
   "outputs": [
    {
     "name": "stdout",
     "output_type": "stream",
     "text": [
      "0 1 2 4 0 0 6 \n",
      "1 \n",
      "0 0 3 0 0 2 \n",
      "0 \n"
     ]
    }
   ],
   "source": [
    "no_of_test_cases = int(input())\n",
    "\n",
    "for _ in range(no_of_test_cases):\n",
    "    n = int(input())\n",
    "\n",
    "    lst = list(map(int, input().split()))\n",
    "\n",
    "    for i in range(1, n):\n",
    "        key = lst[i]\n",
    "        j = i-1\n",
    "\n",
    "        while (j>=0) and (lst[j]>key):\n",
    "            lst[j+1] = lst[j]\n",
    "            j -= 1\n",
    "        \n",
    "        lst[j+1] = key\n",
    "        print(j+1, end=\" \")\n",
    "    \n",
    "    print()\n",
    "    # print(lst)"
   ]
  },
  {
   "cell_type": "markdown",
   "metadata": {},
   "source": [
    "# **C - C_Laptop**\n",
    "\n",
    "One day Dima and Alex had an argument about the price and quality of laptops. Dima thinks that the more expensive a laptop is, the better it is. Alex disagrees. Alex thinks that there are two laptops, such that the price of the first laptop is less (strictly smaller) than the price of the second laptop but the quality of the first laptop is higher (strictly greater) than the quality of the second laptop.\n",
    "\n",
    "Please, check the guess of Alex. You are given descriptions of n laptops. Determine whether two described above laptops exist.\n",
    "\n",
    "**Input**\n",
    "\n",
    "The first line contains an integer n (1 ≤ n ≤ 105) — the number of laptops.\n",
    "\n",
    "Next n lines contain two integers each, ai and bi (1 ≤ ai, bi ≤ n), where ai is the price of the i-th laptop, and bi is the number that represents the quality of the i-th laptop (the larger the number is, the higher is the quality).\n",
    "\n",
    "All ai are distinct. All bi are distinct.\n",
    "\n",
    "**Output**\n",
    "\n",
    "If Alex is correct, print \"Happy Alex\", otherwise print \"Poor Alex\" (without the quotes).\n",
    "\n",
    "**Examples**\n",
    "\n",
    "Input:\n",
    "\n",
    "2\n",
    "\n",
    "1 2\n",
    "\n",
    "2 1\n",
    "\n",
    "\n",
    "Output:\n",
    "\n",
    "Happy Alex\n"
   ]
  }
 ],
 "metadata": {
  "kernelspec": {
   "display_name": "Python 3",
   "language": "python",
   "name": "python3"
  },
  "language_info": {
   "codemirror_mode": {
    "name": "ipython",
    "version": 3
   },
   "file_extension": ".py",
   "mimetype": "text/x-python",
   "name": "python",
   "nbconvert_exporter": "python",
   "pygments_lexer": "ipython3",
   "version": "3.12.8"
  }
 },
 "nbformat": 4,
 "nbformat_minor": 2
}
