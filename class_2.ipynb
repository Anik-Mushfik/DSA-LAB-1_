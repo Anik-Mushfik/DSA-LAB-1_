{
 "cells": [
  {
   "cell_type": "markdown",
   "metadata": {},
   "source": [
    "### **Counting sort** (Time complexcity: O(N+M))"
   ]
  },
  {
   "cell_type": "markdown",
   "metadata": {},
   "source": [
    "**Step-1:** Max value\n",
    "\n",
    "**Step-2:** Count Array of 0 to max_val index\n",
    "\n",
    "**Step-3:** Count Array => Every value 0\n",
    "\n",
    "**Step-4:** Using input array count the number of instance of every number and store in count array.\n",
    "\n",
    "**Step-5:** Find the cumulative sum\n",
    "\n",
    "**Step-6:** Use count array to place numbers in sorted locations"
   ]
  },
  {
   "cell_type": "code",
   "execution_count": 3,
   "metadata": {},
   "outputs": [
    {
     "name": "stdout",
     "output_type": "stream",
     "text": [
      "[0, 2, 2, 4, 7, 7]\n",
      "[0, 0, 2, 2, 3, 3, 3, 5]\n"
     ]
    }
   ],
   "source": [
    "list = [2,5,3,0,2,3,0,3]\n",
    "\n",
    "counter = [0] * (max(list) + 1)\n",
    "# print(counter)\n",
    "\n",
    "for i in list:\n",
    "    counter[i] += 1\n",
    "\n",
    "for i in range(1, len(counter)):\n",
    "    counter[i] += counter[i-1]\n",
    "\n",
    "# j = 0\n",
    "# for i in range(len(counter)):\n",
    "    # count = counter[i]\n",
    "    # counter[i] += j\n",
    "    # j += count\n",
    "\n",
    "output_list = [0] * len(list)\n",
    "for x in list:\n",
    "    # a = counter[x]\n",
    "    output_list[counter[x]-1] = x\n",
    "    counter[x] -= 1\n",
    "\n",
    "print(counter)\n",
    "print(output_list)\n"
   ]
  },
  {
   "cell_type": "markdown",
   "metadata": {},
   "source": [
    "### **Linear Searching** (Time complexity: O(N))"
   ]
  },
  {
   "cell_type": "code",
   "execution_count": 4,
   "metadata": {},
   "outputs": [
    {
     "name": "stdout",
     "output_type": "stream",
     "text": [
      "Input was not found\n"
     ]
    }
   ],
   "source": [
    "list = [0,4,5,6,7,8]\n",
    "\n",
    "user_input = int(input(\"Enter the searching number:\"))\n",
    "\n",
    "def linearSearch(list, x):\n",
    "    if x in list:\n",
    "        print(\"Input was found\")\n",
    "    else:\n",
    "        print(\"Input was not found\")\n",
    "\n",
    "linearSearch(list, user_input)"
   ]
  },
  {
   "cell_type": "code",
   "execution_count": 5,
   "metadata": {},
   "outputs": [],
   "source": [
    "def linear_search(arr, target):\n",
    "    for i in range(len(arr)):\n",
    "        if arr[i] == target:\n",
    "            return i\n",
    "        return -1"
   ]
  },
  {
   "cell_type": "markdown",
   "metadata": {},
   "source": [
    "### **Binary Search** Time complexity(O(Log N))"
   ]
  },
  {
   "cell_type": "code",
   "execution_count": 6,
   "metadata": {},
   "outputs": [
    {
     "data": {
      "text/plain": [
       "[0, 4, 5, 6, 7, 8]"
      ]
     },
     "execution_count": 6,
     "metadata": {},
     "output_type": "execute_result"
    }
   ],
   "source": [
    "list = [0,8,6,5,7,4]\n",
    "list.sort()\n",
    "list"
   ]
  },
  {
   "cell_type": "code",
   "execution_count": 7,
   "metadata": {},
   "outputs": [],
   "source": [
    "list = [0,8,6,5,7,4]\n",
    "list = sorted(list)\n",
    "list\n",
    "\n",
    "def binarySearch(list, x):\n",
    "    low = 0\n",
    "    high = len(list)\n",
    "\n",
    "    while(low <= high):\n",
    "        mid = (low + high) // 2\n",
    "        if list[mid] == x:\n",
    "            return mid\n",
    "        elif list[mid] > x:\n",
    "            binarySearch(list[:mid], x)"
   ]
  },
  {
   "cell_type": "code",
   "execution_count": 8,
   "metadata": {},
   "outputs": [],
   "source": [
    "list = [0,8,6,5,7,4]\n",
    "list = sorted(list)\n",
    "list\n",
    "\n",
    "target = 0\n",
    "\n",
    "def binarySearch():\n",
    "    pass"
   ]
  }
 ],
 "metadata": {
  "kernelspec": {
   "display_name": "Python 3",
   "language": "python",
   "name": "python3"
  },
  "language_info": {
   "codemirror_mode": {
    "name": "ipython",
    "version": 3
   },
   "file_extension": ".py",
   "mimetype": "text/x-python",
   "name": "python",
   "nbconvert_exporter": "python",
   "pygments_lexer": "ipython3",
   "version": "3.13.1"
  }
 },
 "nbformat": 4,
 "nbformat_minor": 2
}
