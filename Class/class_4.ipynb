{
 "cells": [
  {
   "cell_type": "markdown",
   "metadata": {},
   "source": [
    "Single / Singly Linked List"
   ]
  },
  {
   "cell_type": "code",
   "execution_count": null,
   "metadata": {
    "dotnet_interactive": {
     "language": "csharp"
    },
    "polyglot_notebook": {
     "kernelName": "csharp"
    }
   },
   "outputs": [],
   "source": [
    "class Node():\n",
    "    def __init__(self,data):\n",
    "        self.data = data\n",
    "        self.next = None\n",
    "\n",
    "class SinglyLinkedList:\n",
    "    def __init__(self):\n",
    "        self.head = None\n",
    "\n",
    "    def add_to_beginning(self, data):\n",
    "        new_mode = Node(data)\n",
    "        new_mode.next = self.head\n",
    "        self.head = new_mode\n",
    "\n",
    "    def add_to_end(self, data):\n",
    "        new_node = Node(data)\n",
    "        if not self.head:\n",
    "            self.head = new_node\n",
    "            return\n",
    "        current = self.head\n",
    "        while current.next:\n",
    "            current = current.next\n",
    "        current.next = new_node\n",
    "\n",
    "    def delete_first_node(self):\n",
    "        if not self.head:\n",
    "            print(\"The list is empty.\")\n",
    "            return\n",
    "\n",
    "        temp = self.head\n",
    "        # self.head\n",
    "\n",
    "    def delete_node(self, key):\n",
    "        current = self.head\n",
    "        if current and current.data == key:\n",
    "            self.head = current.next\n",
    "            print(f\"Node with data {key} deleted.\")\n",
    "            return\n",
    "\n",
    "        prev = None\n",
    "        while current and current.data != key:\n",
    "            prev = current\n",
    "            current = current.next\n",
    "        if not current:\n",
    "            print(f\"Node with data {key} not found\")\n",
    "            return\n",
    "\n",
    "        prev.next = current.next\n",
    "        print(f\"Node with data {key} deleted.\")\n",
    "\n",
    "    def display(self):\n",
    "        current = self.head\n",
    "        if not current:\n",
    "            print(\"This list is empty\")\n",
    "            return\n",
    "        while current:\n",
    "            print(current.data, end= \"->\")\n",
    "            current = current.next\n",
    "        print(\"None\")\n",
    "\n",
    "    \n",
    "\n",
    "sll = SinglyLinkedList()\n",
    "sll.display()\n",
    "sll.add_to_beginning(5)\n",
    "sll.display()\n",
    "sll.add_to_beginning(15)\n",
    "sll.display()\n",
    "sll.add_to_beginning(-5)\n",
    "sll.display()\n",
    "sll.add_to_end(23)\n",
    "sll.display()"
   ]
  },
  {
   "cell_type": "code",
   "execution_count": null,
   "metadata": {
    "dotnet_interactive": {
     "language": "csharp"
    },
    "polyglot_notebook": {
     "kernelName": "csharp"
    }
   },
   "outputs": [],
   "source": []
  }
 ],
 "metadata": {
  "kernelspec": {
   "display_name": "Python 3",
   "language": "python",
   "name": "python3"
  },
  "language_info": {
   "codemirror_mode": {
    "name": "ipython",
    "version": 3
   },
   "file_extension": ".py",
   "mimetype": "text/x-python",
   "name": "python",
   "nbconvert_exporter": "python",
   "pygments_lexer": "ipython3",
   "version": "3.12.8"
  },
  "polyglot_notebook": {
   "kernelInfo": {
    "defaultKernelName": "csharp",
    "items": [
     {
      "aliases": [],
      "name": "csharp"
     }
    ]
   }
  }
 },
 "nbformat": 4,
 "nbformat_minor": 4
}
