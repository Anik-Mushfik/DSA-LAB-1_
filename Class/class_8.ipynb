{
 "cells": [
  {
   "cell_type": "code",
   "execution_count": null,
   "metadata": {},
   "outputs": [],
   "source": [
    "class Queue:\n",
    "    def __init__(self):\n",
    "        self.queue = []\n",
    "\n",
    "    def is_empty(self):\n",
    "        return len(self.queue) == 0\n",
    "\n",
    "    def enqueue(self, item):\n",
    "        self.queue.append(item)\n",
    "\n",
    "    def dequeue(self):\n",
    "        if self.is_empty():\n",
    "            raise IndexError(\"Dequeue from an empty queue\")\n",
    "        return self.queue.pop(0)\n",
    "\n",
    "    def peek(self):\n",
    "        if self.is_empty():\n",
    "            raise IndexError(\"Peek from an empty queue\")\n",
    "        return self.queue[0]\n",
    "\n",
    "    def size(self):\n",
    "        return len(self.queue)\n",
    "\n",
    "# Example usage:\n",
    "q = Queue()\n",
    "q.enqueue(1)\n",
    "q.enqueue(2)\n",
    "q.enqueue(3)\n",
    "print(q.dequeue())  # Output: 1\n",
    "print(q.peek())     # Output: 2\n",
    "print(q.size())     # Output: 2"
   ]
  },
  {
   "cell_type": "markdown",
   "metadata": {},
   "source": [
    "### Adjacency Matrix"
   ]
  },
  {
   "cell_type": "code",
   "execution_count": 1,
   "metadata": {},
   "outputs": [
    {
     "name": "stdout",
     "output_type": "stream",
     "text": [
      "Adjacency Matrix:\n",
      "[[0 1 0 0 0 1]\n",
      " [1 0 1 0 0 0]\n",
      " [0 1 0 1 0 0]\n",
      " [0 0 1 0 1 0]\n",
      " [0 0 0 1 0 1]\n",
      " [1 0 0 0 1 0]]\n"
     ]
    }
   ],
   "source": [
    "import numpy as np\n",
    "\n",
    "# Define the adjacency matrix\n",
    "adj_matrix = np.array([\n",
    "    [0, 1, 0, 0, 0, 1],  # A\n",
    "    [1, 0, 1, 0, 0, 0],  # B\n",
    "    [0, 1, 0, 1, 0, 0],  # C\n",
    "    [0, 0, 1, 0, 1, 0],  # D\n",
    "    [0, 0, 0, 1, 0, 1],  # E\n",
    "    [1, 0, 0, 0, 1, 0]   # F\n",
    "])\n",
    "\n",
    "# Print the adjacency matrix\n",
    "print(\"Adjacency Matrix:\")\n",
    "print(adj_matrix)\n"
   ]
  },
  {
   "cell_type": "markdown",
   "metadata": {},
   "source": [
    "### Adjacency List"
   ]
  },
  {
   "cell_type": "code",
   "execution_count": 8,
   "metadata": {},
   "outputs": [
    {
     "name": "stdout",
     "output_type": "stream",
     "text": [
      "A -> ['B', 'C']\n",
      "B -> ['A', 'C', 'D']\n",
      "C -> ['A', 'B', 'F']\n",
      "D -> ['B', 'E']\n",
      "E -> ['F', 'D']\n",
      "F -> ['E', 'C']\n"
     ]
    }
   ],
   "source": [
    "class Graph:\n",
    "    def __init__(self):\n",
    "        self.graph = {}\n",
    "\n",
    "    def add_edge(self, u, v):\n",
    "        if u not in self.graph:\n",
    "            self.graph[u] = []\n",
    "        if v not in self.graph:\n",
    "            self.graph[v] = []\n",
    "\n",
    "        self.graph[u].append(v)\n",
    "        self.graph[v].append(u)\n",
    "\n",
    "    def display_graph(self):\n",
    "        for node in self.graph:\n",
    "            print(f\"{node} -> {self.graph[node]}\")\n",
    "\n",
    "\n",
    "# Create a graph object\n",
    "graph = Graph()\n",
    "\n",
    "# Add edges\n",
    "graph.add_edge('A', 'B')\n",
    "graph.add_edge('A', 'C')\n",
    "graph.add_edge('B', 'C')\n",
    "graph.add_edge('B', 'D')\n",
    "graph.add_edge('E', 'F')\n",
    "graph.add_edge('C', 'F')\n",
    "graph.add_edge('D', 'E')\n",
    "\n",
    "# Display the graph\n",
    "graph.display_graph()\n"
   ]
  },
  {
   "cell_type": "code",
   "execution_count": null,
   "metadata": {},
   "outputs": [],
   "source": []
  }
 ],
 "metadata": {
  "kernelspec": {
   "display_name": "Python 3",
   "language": "python",
   "name": "python3"
  },
  "language_info": {
   "codemirror_mode": {
    "name": "ipython",
    "version": 3
   },
   "file_extension": ".py",
   "mimetype": "text/x-python",
   "name": "python",
   "nbconvert_exporter": "python",
   "pygments_lexer": "ipython3",
   "version": "3.12.8"
  }
 },
 "nbformat": 4,
 "nbformat_minor": 2
}
