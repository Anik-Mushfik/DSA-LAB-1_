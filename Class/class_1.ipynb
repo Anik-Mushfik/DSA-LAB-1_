{
 "cells": [
  {
   "cell_type": "code",
   "execution_count": 11,
   "metadata": {},
   "outputs": [],
   "source": [
    "my_list = [5, 3, 2, 1, 4 ,9, 12, 8, 6]"
   ]
  },
  {
   "cell_type": "markdown",
   "metadata": {},
   "source": [
    "Swap Function"
   ]
  },
  {
   "cell_type": "code",
   "execution_count": 12,
   "metadata": {},
   "outputs": [],
   "source": [
    "def swap(list, i,j):\n",
    "    list[i], list[j] = list[j], list[i]"
   ]
  },
  {
   "cell_type": "markdown",
   "metadata": {},
   "source": [
    "Bubble Sort"
   ]
  },
  {
   "cell_type": "code",
   "execution_count": 14,
   "metadata": {},
   "outputs": [
    {
     "name": "stdout",
     "output_type": "stream",
     "text": [
      "[3, 4, 2, 1]\n",
      "[3, 2, 4, 1]\n",
      "[3, 2, 1, 4]\n",
      "[2, 3, 1, 4]\n",
      "[2, 1, 3, 4]\n",
      "[1, 2, 3, 4]\n",
      "6\n"
     ]
    }
   ],
   "source": [
    "my_list = [4,3,2,1]\n",
    "\n",
    "def bubble_sort(list):\n",
    "    swap_no = 0\n",
    "    for i in range(len(list)):\n",
    "        for j in range(len(list)-i-1):\n",
    "            if list[j] > list[j+1]:\n",
    "                swap_no += 1\n",
    "                swap(list, j, j+1)\n",
    "\n",
    "            print(list)\n",
    "    print(swap_no)\n",
    "\n",
    "bubble_sort(my_list)\n"
   ]
  },
  {
   "cell_type": "code",
   "execution_count": null,
   "metadata": {},
   "outputs": [],
   "source": []
  },
  {
   "cell_type": "markdown",
   "metadata": {},
   "source": [
    "Selection Sort; Time Complexity = n^2"
   ]
  },
  {
   "cell_type": "code",
   "execution_count": null,
   "metadata": {},
   "outputs": [
    {
     "name": "stdout",
     "output_type": "stream",
     "text": [
      "Unsorted: [5, 3, 2, 1, 4, 9, 12, 8, 6]\n",
      "[1, 3, 2, 5, 4, 9, 12, 8, 6]\n",
      "[1, 2, 3, 5, 4, 9, 12, 8, 6]\n",
      "[1, 2, 3, 5, 4, 9, 12, 8, 6]\n",
      "[1, 2, 3, 4, 5, 9, 12, 8, 6]\n",
      "[1, 2, 3, 4, 5, 9, 12, 8, 6]\n",
      "[1, 2, 3, 4, 5, 6, 12, 8, 9]\n",
      "[1, 2, 3, 4, 5, 6, 8, 12, 9]\n",
      "[1, 2, 3, 4, 5, 6, 8, 9, 12]\n"
     ]
    }
   ],
   "source": [
    "my_list = [5, 3, 2, 1, 4 ,9, 12, 8, 6]\n",
    "print(f\"Unsorted: {my_list}\")\n",
    "\n",
    "def selection_sort(list):\n",
    "    n = len(list)    \n",
    "    for i in range(n-1):\n",
    "        min = i\n",
    "        for j in range(i+1, n):\n",
    "            if list[j] < list[min]:\n",
    "                min = j\n",
    "        swap(list, min, i)\n",
    "    \n",
    "        print(list)\n",
    "\n",
    "selection_sort(my_list)"
   ]
  },
  {
   "cell_type": "markdown",
   "metadata": {},
   "source": [
    "Insert Sorting"
   ]
  },
  {
   "cell_type": "code",
   "execution_count": null,
   "metadata": {},
   "outputs": [
    {
     "name": "stdout",
     "output_type": "stream",
     "text": [
      "[3, 5, 2, 1, 4, 9, 12, 8, 6]\n",
      "[2, 3, 5, 1, 4, 9, 12, 8, 6]\n",
      "[1, 2, 3, 5, 4, 9, 12, 8, 6]\n",
      "[1, 2, 3, 4, 5, 9, 12, 8, 6]\n",
      "[1, 2, 3, 4, 5, 9, 12, 8, 6]\n",
      "[1, 2, 3, 4, 5, 9, 12, 8, 6]\n",
      "[1, 2, 3, 4, 5, 8, 9, 12, 6]\n",
      "[1, 2, 3, 4, 5, 6, 8, 9, 12]\n"
     ]
    }
   ],
   "source": [
    "my_list = [5, 3, 2, 1, 4 ,9, 12, 8, 6]\n",
    "\n",
    "def insetion_sort(list):\n",
    "    for i in range(1, len(list)):\n",
    "        key = list[i]\n",
    "        j = i-1\n",
    "\n",
    "        while j>=0 and list[j]>key:\n",
    "            list[j+1] = list[j]\n",
    "            j = j-1\n",
    "\n",
    "        list[j+1] = key\n",
    "\n",
    "        print(list)\n",
    "\n",
    "insetion_sort(my_list)"
   ]
  },
  {
   "cell_type": "code",
   "execution_count": null,
   "metadata": {},
   "outputs": [],
   "source": []
  }
 ],
 "metadata": {
  "kernelspec": {
   "display_name": "Python 3",
   "language": "python",
   "name": "python3"
  },
  "language_info": {
   "codemirror_mode": {
    "name": "ipython",
    "version": 3
   },
   "file_extension": ".py",
   "mimetype": "text/x-python",
   "name": "python",
   "nbconvert_exporter": "python",
   "pygments_lexer": "ipython3",
   "version": "3.12.8"
  }
 },
 "nbformat": 4,
 "nbformat_minor": 2
}
