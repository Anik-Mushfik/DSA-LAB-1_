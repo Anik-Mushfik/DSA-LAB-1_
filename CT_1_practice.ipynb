{
 "cells": [
  {
   "cell_type": "markdown",
   "metadata": {},
   "source": [
    "**Problem 1.1:**\n",
    "Write a function that takes a string as input and returns the string sorted alphabetically by its characters. For example:\n",
    "\n",
    "Input: \"python\"\n",
    "\n",
    "Output: \"hnopty\"\n",
    "\n",
    "Time Complexity:O(Max_CHAR*n) which becomes O(n) as MAX_CHAR is  constant,So Overall Time Complexity:- O(n) where n is the length of the string.\n",
    "\n",
    "Auxiliary Space:O(Max_CHAR)."
   ]
  },
  {
   "cell_type": "code",
   "execution_count": 7,
   "metadata": {},
   "outputs": [
    {
     "name": "stdout",
     "output_type": "stream",
     "text": [
      "[0, 0, 0, 0, 0, 0, 0, 0, 0, 0, 0, 0, 0, 0, 0, 0, 0, 0, 0, 0, 0, 0, 0, 0, 0, 0]\n",
      "[0, 0, 0, 0, 0, 0, 0, 1, 0, 0, 0, 0, 0, 1, 2, 1, 0, 0, 0, 1, 0, 0, 0, 0, 1, 0]\n",
      "hnoopty"
     ]
    }
   ],
   "source": [
    "#The algorithm you're looking at is a variation of Counting Sort\n",
    "s = \"pythoon\"\n",
    "MAX_CHAR = 26 #as there are 26 alphabates in English\n",
    "\n",
    "def sortString(s):\n",
    "    charCount = [0] * MAX_CHAR\n",
    "    print(charCount)\n",
    "\n",
    "    for ch in s:\n",
    "        charCount[ord(ch) - ord(\"a\")] += 1\n",
    "\n",
    "    print(charCount)\n",
    "\n",
    "    for i in range(MAX_CHAR):\n",
    "        for _ in range(charCount[i]):\n",
    "            print(chr((i) + ord('a')), end=\"\")\n",
    "\n",
    "sortString(s)"
   ]
  },
  {
   "cell_type": "markdown",
   "metadata": {},
   "source": [
    "**Problem 1.2**:\n",
    "Modify the above problem to sort the string characters in reverse alphabetical order.\n",
    "\n",
    "Input: \"python\"\n",
    "\n",
    "Output: \"ytponh\""
   ]
  },
  {
   "cell_type": "code",
   "execution_count": null,
   "metadata": {},
   "outputs": [
    {
     "name": "stdout",
     "output_type": "stream",
     "text": [
      "ytponh"
     ]
    }
   ],
   "source": [
    "user_input = \"python\"\n",
    "\n",
    "MAX_CHAR = 26\n",
    "\n",
    "def reverseSort(s):\n",
    "    charCount = [0] * MAX_CHAR\n",
    "\n",
    "    for ch in s:\n",
    "        charCount[ord(ch) - ord('a')] += 1\n",
    "\n",
    "    for i in range(1, MAX_CHAR+1):\n",
    "        for _ in range(charCount[-i]):\n",
    "            print(chr(ord('z') - (i+1)), end=\"\")\n",
    "\n",
    "reverseSort(user_input)"
   ]
  },
  {
   "cell_type": "markdown",
   "metadata": {},
   "source": [
    "**Problem 1.3:**\n",
    "Given a string with both uppercase and lowercase letters, sort it such that lowercase letters come first, followed by uppercase letters, all in alphabetical order.\n",
    "\n",
    "Input: \"pYThOn\"\n",
    "\n",
    "Output: \"hnOpTY\""
   ]
  },
  {
   "cell_type": "code",
   "execution_count": null,
   "metadata": {},
   "outputs": [],
   "source": [
    "user_input = \"pYThOn\"\n",
    "\n",
    "MAX_CHAR = 52\n",
    "\n",
    "def sortString(s):\n",
    "    charChart = [0] * "
   ]
  }
 ],
 "metadata": {
  "kernelspec": {
   "display_name": "Python 3",
   "language": "python",
   "name": "python3"
  },
  "language_info": {
   "codemirror_mode": {
    "name": "ipython",
    "version": 3
   },
   "file_extension": ".py",
   "mimetype": "text/x-python",
   "name": "python",
   "nbconvert_exporter": "python",
   "pygments_lexer": "ipython3",
   "version": "3.12.7"
  }
 },
 "nbformat": 4,
 "nbformat_minor": 2
}
