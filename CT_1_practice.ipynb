{
 "cells": [
  {
   "cell_type": "markdown",
   "metadata": {},
   "source": [
    "**Problem 1.1:**\n",
    "\n",
    "Write a function that takes a string as input and returns the string sorted alphabetically by its characters. For example:\n",
    "\n",
    "Input: \"python\"\n",
    "\n",
    "Output: \"hnopty\"\n",
    "\n",
    "Time Complexity:O(Max_CHAR*n) which becomes O(n) as MAX_CHAR is  constant,So Overall Time Complexity:- O(n) where n is the length of the string.\n",
    "\n",
    "Auxiliary Space:O(Max_CHAR)."
   ]
  },
  {
   "cell_type": "code",
   "execution_count": 2,
   "metadata": {},
   "outputs": [
    {
     "name": "stdout",
     "output_type": "stream",
     "text": [
      "hnopty"
     ]
    }
   ],
   "source": [
    "s = \"python\"\n",
    "MAX_CHAR = 26\n",
    "\n",
    "def sortString(s):\n",
    "    charCount = [0] * MAX_CHAR\n",
    "\n",
    "    for ch in s:\n",
    "        charCount[ord(ch) - ord(\"a\")] += 1\n",
    "\n",
    "    for i in range(MAX_CHAR):\n",
    "        for _ in range(charCount[i]):\n",
    "            print(chr((i) + ord('a')), end=\"\")\n",
    "\n",
    "sortString(s)"
   ]
  },
  {
   "cell_type": "code",
   "execution_count": null,
   "metadata": {},
   "outputs": [],
   "source": []
  }
 ],
 "metadata": {
  "kernelspec": {
   "display_name": "Python 3",
   "language": "python",
   "name": "python3"
  },
  "language_info": {
   "codemirror_mode": {
    "name": "ipython",
    "version": 3
   },
   "file_extension": ".py",
   "mimetype": "text/x-python",
   "name": "python",
   "nbconvert_exporter": "python",
   "pygments_lexer": "ipython3",
   "version": "3.12.7"
  }
 },
 "nbformat": 4,
 "nbformat_minor": 2
}
