{
 "cells": [
  {
   "cell_type": "markdown",
   "metadata": {},
   "source": [
    "**Problem 1.1:**\n",
    "Write a function that takes a string as input and returns the string sorted alphabetically by its characters. For example:\n",
    "\n",
    "Input: \"python\"\n",
    "\n",
    "Output: \"hnopty\"\n",
    "\n",
    "Time Complexity:O(Max_CHAR*n) which becomes O(n) as MAX_CHAR is  constant,So Overall Time Complexity:- O(n) where n is the length of the string.\n",
    "\n",
    "Auxiliary Space:O(Max_CHAR)."
   ]
  },
  {
   "cell_type": "code",
   "execution_count": 30,
   "metadata": {},
   "outputs": [
    {
     "name": "stdout",
     "output_type": "stream",
     "text": [
      "[0, 0, 0, 0, 0, 0, 0, 0, 0, 0, 0, 0, 0, 0, 0, 0, 0, 0, 0, 0, 0, 0, 0, 0, 0, 0]\n",
      "[0, 0, 0, 0, 0, 0, 0, 1, 0, 0, 0, 0, 0, 1, 2, 1, 0, 0, 0, 1, 0, 0, 0, 0, 1, 0]\n",
      "hnoopty"
     ]
    }
   ],
   "source": [
    "#The algorithm you're looking at is a variation of Counting Sort\n",
    "s = \"pythoon\"\n",
    "MAX_CHAR = 26 #as there are 26 alphabates in English\n",
    "\n",
    "def sortString(s):\n",
    "    charCount = [0] * MAX_CHAR\n",
    "    print(charCount)\n",
    "\n",
    "    for ch in s:\n",
    "        charCount[ord(ch) - ord(\"a\")] += 1\n",
    "\n",
    "    print(charCount)\n",
    "\n",
    "    for i in range(MAX_CHAR):\n",
    "        for _ in range(charCount[i]):\n",
    "            print(chr((i) + ord('a')), end=\"\")\n",
    "\n",
    "sortString(s)"
   ]
  },
  {
   "cell_type": "markdown",
   "metadata": {},
   "source": [
    "**Problem 1.2**:\n",
    "Modify the above problem to sort the string characters in reverse alphabetical order.\n",
    "\n",
    "Input: \"python\"\n",
    "\n",
    "Output: \"ytponh\""
   ]
  },
  {
   "cell_type": "code",
   "execution_count": 31,
   "metadata": {},
   "outputs": [
    {
     "name": "stdout",
     "output_type": "stream",
     "text": [
      "wrnmlf"
     ]
    }
   ],
   "source": [
    "user_input = \"python\"\n",
    "\n",
    "MAX_CHAR = 26\n",
    "\n",
    "def reverseSort(s):\n",
    "    charCount = [0] * MAX_CHAR\n",
    "\n",
    "    for ch in s:\n",
    "        charCount[ord(ch) - ord('a')] += 1\n",
    "\n",
    "    for i in range(1, MAX_CHAR+1):\n",
    "        for _ in range(charCount[-i]):\n",
    "            print(chr(ord('z') - (i+1)), end=\"\")\n",
    "\n",
    "reverseSort(user_input)"
   ]
  },
  {
   "cell_type": "markdown",
   "metadata": {},
   "source": [
    "**Problem 1.3:**\n",
    "Given a string with both uppercase and lowercase letters, sort it such that lowercase letters come first, followed by uppercase letters, all in alphabetical order.\n",
    "\n",
    "Input: \"pYThOn\"\n",
    "\n",
    "Output: \"hnOpTY\""
   ]
  },
  {
   "cell_type": "code",
   "execution_count": 32,
   "metadata": {},
   "outputs": [
    {
     "ename": "SyntaxError",
     "evalue": "invalid syntax (2999498876.py, line 6)",
     "output_type": "error",
     "traceback": [
      "\u001b[1;36m  Cell \u001b[1;32mIn[32], line 6\u001b[1;36m\u001b[0m\n\u001b[1;33m    charChart = [0] *\u001b[0m\n\u001b[1;37m                      ^\u001b[0m\n\u001b[1;31mSyntaxError\u001b[0m\u001b[1;31m:\u001b[0m invalid syntax\n"
     ]
    }
   ],
   "source": [
    "user_input = \"pYThOn\"\n",
    "\n",
    "MAX_CHAR = 52\n",
    "\n",
    "def sortString(s):\n",
    "    charChart = [0] * "
   ]
  },
  {
   "cell_type": "markdown",
   "metadata": {},
   "source": [
    "Youtube"
   ]
  },
  {
   "cell_type": "code",
   "execution_count": null,
   "metadata": {},
   "outputs": [],
   "source": [
    "tests = [\n",
    "    {'input': {'cards': [13, 11, 10, 7, 4, 3, 1, 0], 'query': 7}, 'output': 3},\n",
    "    {'input': {'cards': [13, 11, 10, 7, 4, 3, 1, 0], 'query': 1}, 'output': 6},\n",
    "    {'input': {'cards': [4, 2, 1, -1], 'query': 4}, 'output': 0},\n",
    "    {'input': {'cards': [3, -1, -9, -127], 'query': -127}, 'output': 3},\n",
    "    {'input': {'cards': [6], 'query': 6}, 'output': 0},\n",
    "    {'input': {'cards': [9, 7, 5, 2, -9], 'query': 4}, 'output': -1},\n",
    "    {'input': {'cards': [], 'query': 7}, 'output': -1},\n",
    "    {'input': {'cards': [8, 8, 6, 6, 6, 6, 6, 3, 2, 2, 2, 0, 0, 0], 'query': 3}, 'output': 7},\n",
    "    {'input': {'cards': [8, 8, 6, 6, 6, 6, 6, 6, 3, 2, 2, 2, 0, 0, 0], 'query': 6}, 'output': 2}\n",
    "]"
   ]
  },
  {
   "cell_type": "code",
   "execution_count": null,
   "metadata": {},
   "outputs": [],
   "source": [
    "def locate_card(cards, query):\n",
    "    for card in cards:\n",
    "        if card == query:\n",
    "            return cards.index(card)\n",
    "    return -1"
   ]
  },
  {
   "cell_type": "code",
   "execution_count": null,
   "metadata": {},
   "outputs": [
    {
     "name": "stdout",
     "output_type": "stream",
     "text": [
      "True\n",
      "True\n",
      "True\n",
      "True\n",
      "True\n",
      "True\n",
      "True\n",
      "True\n",
      "True\n"
     ]
    }
   ],
   "source": [
    "for test in tests:\n",
    "    print(locate_card(**test['input']) == test['output'])"
   ]
  },
  {
   "cell_type": "code",
   "execution_count": null,
   "metadata": {},
   "outputs": [
    {
     "name": "stdout",
     "output_type": "stream",
     "text": [
      "\n",
      "\u001b[1mTEST CASE #0\u001b[0m\n",
      "\n",
      "Input:\n",
      "{'cards': [13, 11, 10, 7, 4, 3, 1, 0], 'query': 7}\n",
      "\n",
      "Expected Output:\n",
      "3\n",
      "\n",
      "\n",
      "Actual Output:\n",
      "3\n",
      "\n",
      "Execution Time:\n",
      "0.009 ms\n",
      "\n",
      "Test Result:\n",
      "\u001b[92mPASSED\u001b[0m\n",
      "\n",
      "\n",
      "\u001b[1mTEST CASE #1\u001b[0m\n",
      "\n",
      "Input:\n",
      "{'cards': [13, 11, 10, 7, 4, 3, 1, 0], 'query': 1}\n",
      "\n",
      "Expected Output:\n",
      "6\n",
      "\n",
      "\n",
      "Actual Output:\n",
      "6\n",
      "\n",
      "Execution Time:\n",
      "0.006 ms\n",
      "\n",
      "Test Result:\n",
      "\u001b[92mPASSED\u001b[0m\n",
      "\n",
      "\n",
      "\u001b[1mTEST CASE #2\u001b[0m\n",
      "\n",
      "Input:\n",
      "{'cards': [4, 2, 1, -1], 'query': 4}\n",
      "\n",
      "Expected Output:\n",
      "0\n",
      "\n",
      "\n",
      "Actual Output:\n",
      "0\n",
      "\n",
      "Execution Time:\n",
      "0.004 ms\n",
      "\n",
      "Test Result:\n",
      "\u001b[92mPASSED\u001b[0m\n",
      "\n",
      "\n",
      "\u001b[1mTEST CASE #3\u001b[0m\n",
      "\n",
      "Input:\n",
      "{'cards': [3, -1, -9, -127], 'query': -127}\n",
      "\n",
      "Expected Output:\n",
      "3\n",
      "\n",
      "\n",
      "Actual Output:\n",
      "3\n",
      "\n",
      "Execution Time:\n",
      "0.006 ms\n",
      "\n",
      "Test Result:\n",
      "\u001b[92mPASSED\u001b[0m\n",
      "\n",
      "\n",
      "\u001b[1mTEST CASE #4\u001b[0m\n",
      "\n",
      "Input:\n",
      "{'cards': [6], 'query': 6}\n",
      "\n",
      "Expected Output:\n",
      "0\n",
      "\n",
      "\n",
      "Actual Output:\n",
      "0\n",
      "\n",
      "Execution Time:\n",
      "0.003 ms\n",
      "\n",
      "Test Result:\n",
      "\u001b[92mPASSED\u001b[0m\n",
      "\n",
      "\n",
      "\u001b[1mTEST CASE #5\u001b[0m\n",
      "\n",
      "Input:\n",
      "{'cards': [9, 7, 5, 2, -9], 'query': 4}\n",
      "\n",
      "Expected Output:\n",
      "-1\n",
      "\n",
      "\n",
      "Actual Output:\n",
      "-1\n",
      "\n",
      "Execution Time:\n",
      "0.003 ms\n",
      "\n",
      "Test Result:\n",
      "\u001b[92mPASSED\u001b[0m\n",
      "\n",
      "\n",
      "\u001b[1mTEST CASE #6\u001b[0m\n",
      "\n",
      "Input:\n",
      "{'cards': [], 'query': 7}\n",
      "\n",
      "Expected Output:\n",
      "-1\n",
      "\n",
      "\n",
      "Actual Output:\n",
      "-1\n",
      "\n",
      "Execution Time:\n",
      "0.002 ms\n",
      "\n",
      "Test Result:\n",
      "\u001b[92mPASSED\u001b[0m\n",
      "\n",
      "\n",
      "\u001b[1mTEST CASE #7\u001b[0m\n",
      "\n",
      "Input:\n",
      "{'cards': [8, 8, 6, 6, 6, 6, 6, 3, 2, 2, 2, 0, 0, 0], 'query': 3}\n",
      "\n",
      "Expected Output:\n",
      "7\n",
      "\n",
      "\n",
      "Actual Output:\n",
      "7\n",
      "\n",
      "Execution Time:\n",
      "0.003 ms\n",
      "\n",
      "Test Result:\n",
      "\u001b[92mPASSED\u001b[0m\n",
      "\n",
      "\n",
      "\u001b[1mTEST CASE #8\u001b[0m\n",
      "\n",
      "Input:\n",
      "{'cards': [8, 8, 6, 6, 6, 6, 6, 6, 3, 2, 2, 2, 0, 0, 0], 'query': 6}\n",
      "\n",
      "Expected Output:\n",
      "2\n",
      "\n",
      "\n",
      "Actual Output:\n",
      "2\n",
      "\n",
      "Execution Time:\n",
      "0.002 ms\n",
      "\n",
      "Test Result:\n",
      "\u001b[92mPASSED\u001b[0m\n",
      "\n",
      "\n",
      "\u001b[1mSUMMARY\u001b[0m\n",
      "\n",
      "TOTAL: 9, \u001b[92mPASSED\u001b[0m: 9, \u001b[91mFAILED\u001b[0m: 0\n"
     ]
    },
    {
     "data": {
      "text/plain": [
       "[(3, True, 0.009),\n",
       " (6, True, 0.006),\n",
       " (0, True, 0.004),\n",
       " (3, True, 0.006),\n",
       " (0, True, 0.003),\n",
       " (-1, True, 0.003),\n",
       " (-1, True, 0.002),\n",
       " (7, True, 0.003),\n",
       " (2, True, 0.002)]"
      ]
     },
     "execution_count": 14,
     "metadata": {},
     "output_type": "execute_result"
    }
   ],
   "source": [
    "from jovian.pythondsa import evaluate_test_cases\n",
    "\n",
    "evaluate_test_cases(locate_card, tests)"
   ]
  },
  {
   "cell_type": "markdown",
   "metadata": {},
   "source": [
    "Test Case:"
   ]
  },
  {
   "cell_type": "code",
   "execution_count": 33,
   "metadata": {},
   "outputs": [],
   "source": [
    "tests = [\n",
    "    [3,6,1,8,23,2,90],\n",
    "    [1,2,3,4,5,6],\n",
    "    [6,5,4,3,2,1],\n",
    "    [-1,3,5,-12,34,2],\n",
    "    [],\n",
    "    [-1, -56, -23, -3, -90]\n",
    "]"
   ]
  },
  {
   "cell_type": "markdown",
   "metadata": {},
   "source": [
    "Selection Sort"
   ]
  },
  {
   "cell_type": "code",
   "execution_count": 21,
   "metadata": {},
   "outputs": [],
   "source": [
    "def selectionReverseSort(list):\n",
    "    \n",
    "    for i in range(len(list)):\n",
    "        k = i\n",
    "        j = k+1\n",
    "        while j < len(list):\n",
    "            if list[k] < list[j]:\n",
    "                k = j\n",
    "            else:\n",
    "                j += 1\n",
    "        list[i], list[k] = list[k], list[i]\n",
    "    \n",
    "    return list"
   ]
  },
  {
   "cell_type": "code",
   "execution_count": 23,
   "metadata": {},
   "outputs": [],
   "source": [
    "def swap(list, i, j):\n",
    "    list[i], list[j] = list[j], list[i]"
   ]
  },
  {
   "cell_type": "code",
   "execution_count": 26,
   "metadata": {},
   "outputs": [],
   "source": [
    "def selectionSort(list):\n",
    "    n = len(list)\n",
    "\n",
    "    for i in range(n-1):\n",
    "        min = i\n",
    "        for j in range(i+1, n):\n",
    "            if list[j] < list[min]:\n",
    "                min = j\n",
    "        \n",
    "        swap(list, i, min)\n",
    "    \n",
    "    return list"
   ]
  },
  {
   "cell_type": "code",
   "execution_count": null,
   "metadata": {},
   "outputs": [
    {
     "name": "stdout",
     "output_type": "stream",
     "text": [
      "[90, 23, 8, 6, 3, 2, 1]\n",
      "[6, 5, 4, 3, 2, 1]\n",
      "[6, 5, 4, 3, 2, 1]\n",
      "[34, 5, 3, 2, -1, -12]\n",
      "[]\n",
      "[-1, -3, -23, -56, -90]\n"
     ]
    }
   ],
   "source": [
    "for test in tests:\n",
    "    print(selectionReverseSort(test))"
   ]
  },
  {
   "cell_type": "code",
   "execution_count": 27,
   "metadata": {},
   "outputs": [
    {
     "name": "stdout",
     "output_type": "stream",
     "text": [
      "[1, 2, 3, 6, 8, 23, 90]\n",
      "[1, 2, 3, 4, 5, 6]\n",
      "[1, 2, 3, 4, 5, 6]\n",
      "[-12, -1, 2, 3, 5, 34]\n",
      "[]\n",
      "[-90, -56, -23, -3, -1]\n"
     ]
    }
   ],
   "source": [
    "for test in tests:\n",
    "    print(selectionSort(test))"
   ]
  },
  {
   "cell_type": "markdown",
   "metadata": {},
   "source": [
    "Insertion Sort"
   ]
  },
  {
   "cell_type": "code",
   "execution_count": 28,
   "metadata": {},
   "outputs": [],
   "source": [
    "def insertion_sort(list):\n",
    "    \n",
    "    for step in range(1, len(list)):\n",
    "        key = list[step]\n",
    "        j = step - 1\n",
    "\n",
    "        while (j>=0) and (key < list[j]):\n",
    "            list[j+1] = list[j]\n",
    "            j -= 1\n",
    "        \n",
    "        list[j+1] = key\n",
    "\n",
    "    return list"
   ]
  },
  {
   "cell_type": "code",
   "execution_count": 29,
   "metadata": {},
   "outputs": [
    {
     "name": "stdout",
     "output_type": "stream",
     "text": [
      "[1, 2, 3, 6, 8, 23, 90]\n",
      "[1, 2, 3, 4, 5, 6]\n",
      "[1, 2, 3, 4, 5, 6]\n",
      "[-12, -1, 2, 3, 5, 34]\n",
      "[]\n",
      "[-90, -56, -23, -3, -1]\n"
     ]
    }
   ],
   "source": [
    "for test in tests:\n",
    "    print(insertion_sort(test))"
   ]
  },
  {
   "cell_type": "markdown",
   "metadata": {},
   "source": [
    "**Question 1 (Mark 10):**\n",
    "\n",
    "You are given a character array. Sort the array in descending order Using Insertion Sort.\n",
    "\n",
    "Example:\n",
    "\n",
    "Given the character array arr = ['b', 'c','c', 'a','d','d','d','e']\n",
    "\n",
    "Sort the array in descending order: sorted_arr = ['e','d','d','d', 'c','c', 'b', 'a']"
   ]
  },
  {
   "cell_type": "code",
   "execution_count": 47,
   "metadata": {},
   "outputs": [
    {
     "name": "stdout",
     "output_type": "stream",
     "text": [
      "['e', 'd', 'd', 'd', 'c', 'c', 'b', 'a']\n"
     ]
    }
   ],
   "source": [
    "def char_insertion_decending_sort(list):\n",
    "\n",
    "    for step in range(1, len(list)):\n",
    "        key = list[step]\n",
    "        j = step - 1\n",
    "\n",
    "        while (j>=0) and (ord(key) > ord(list[j])):\n",
    "            list[j+1] = list[j]\n",
    "            j -= 1\n",
    "        \n",
    "        list[j+1] = key\n",
    "        # print(list)\n",
    "    return list\n",
    "\n",
    "print(char_insertion_decending_sort(['b', 'c', 'c', 'a', 'd', 'd', 'd', 'e']))"
   ]
  },
  {
   "cell_type": "markdown",
   "metadata": {},
   "source": [
    "**Question 2 (Mark 15):**\n",
    "\n",
    "From question one output , Count the total number of duplicate elements using two binary searches.\n",
    "\n",
    "Example: The sorted array from question 1 : arr  = ['e','d','d','d', 'c','c', 'b', 'a']\n",
    "\n",
    "Perform two binary searches to count the total number of duplicate elements. For example, if the target element is d, and it appears 3 times in the array, the count will be 3."
   ]
  },
  {
   "cell_type": "code",
   "execution_count": null,
   "metadata": {},
   "outputs": [],
   "source": []
  }
 ],
 "metadata": {
  "kernelspec": {
   "display_name": "Python 3",
   "language": "python",
   "name": "python3"
  },
  "language_info": {
   "codemirror_mode": {
    "name": "ipython",
    "version": 3
   },
   "file_extension": ".py",
   "mimetype": "text/x-python",
   "name": "python",
   "nbconvert_exporter": "python",
   "pygments_lexer": "ipython3",
   "version": "3.12.7"
  }
 },
 "nbformat": 4,
 "nbformat_minor": 2
}
